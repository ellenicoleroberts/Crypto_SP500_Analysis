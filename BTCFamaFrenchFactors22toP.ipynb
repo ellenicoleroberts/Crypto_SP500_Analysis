{
 "cells": [
  {
   "cell_type": "code",
   "execution_count": null,
   "id": "10a20271-cbbe-412f-b2ff-0cc57100137c",
   "metadata": {
    "tags": []
   },
   "outputs": [],
   "source": [
    "# Initial Imports:\n",
    "\n",
    "import pandas as pd\n",
    "from pathlib import Path\n",
    "import pandas_datareader.data as reader\n",
    "import datetime as dt\n",
    "import statsmodels.api as sm\n",
    "import getFamaFrenchFactors as gff\n",
    "\n",
    "from sklearn.linear_model import LinearRegression\n",
    "from sklearn import linear_model\n",
    "from sklearn.model_selection import train_test_split\n",
    "from sklearn.metrics import r2_score\n",
    "\n",
    "# For visualizations:\n",
    "import seaborn as sns"
   ]
  },
  {
   "cell_type": "markdown",
   "id": "38f7df3c-2ef0-4474-9905-bcbe08d5cd0c",
   "metadata": {},
   "source": [
    "# PART I: DATA CAPTURE AND ORGANIZATION"
   ]
  },
  {
   "cell_type": "code",
   "execution_count": null,
   "id": "b34c5fae-3a65-496a-8cad-57e5f8063dee",
   "metadata": {},
   "outputs": [],
   "source": [
    "# Set start and end times and establish BTC as our asset of investigation\n",
    "\n",
    "end = dt.date(2022, 3, 31)\n",
    "start = dt.date(2022, 1, 1)\n",
    "ticker = [\"BTC-USD\"]"
   ]
  },
  {
   "cell_type": "code",
   "execution_count": null,
   "id": "962bc612-7483-4e63-8c17-d56029e4b58d",
   "metadata": {},
   "outputs": [],
   "source": [
    "# Get BTC closing prices\n",
    "\n",
    "btc_dreturns = reader.get_data_yahoo(ticker, start, end)[\"Close\"]\n",
    "display(btc_dreturns.head())\n",
    "btc_dreturns.tail()"
   ]
  },
  {
   "cell_type": "code",
   "execution_count": null,
   "id": "d2078f0a-a025-4045-b6f5-da5b2f64471c",
   "metadata": {},
   "outputs": [],
   "source": [
    "# Get daily returns of BTC\n",
    "\n",
    "btc_dreturns = btc_dreturns.pct_change().dropna() #convert to daily returns and drop NaN values\n",
    "display(btc_dreturns.head())\n",
    "btc_dreturns.tail()"
   ]
  },
  {
   "cell_type": "code",
   "execution_count": null,
   "id": "a32ba669-2cbc-4857-9741-7dde28ddd531",
   "metadata": {},
   "outputs": [],
   "source": [
    "# Get daily factor data  \n",
    "\n",
    "ff3_daily = reader.DataReader(\"F-F_Research_Data_Factors_daily\", \"famafrench\", start, end)[0]  \n",
    "ff3_daily.head()"
   ]
  },
  {
   "cell_type": "code",
   "execution_count": null,
   "id": "c9b5ad71-5bc4-4a90-8aa4-1e593d1232f7",
   "metadata": {},
   "outputs": [],
   "source": [
    "# Divide select columns by 100 (because inputted Mkt-RF, SMB, and HML columns are in percentages while RF column is not).\n",
    "\n",
    "ff3_daily[[\"Mkt-RF\", \"SMB\", \"HML\"]] = ff3_daily[[\"Mkt-RF\", \"SMB\", \"HML\"]]/100 \n",
    "ff3_daily.head()"
   ]
  },
  {
   "cell_type": "code",
   "execution_count": null,
   "id": "6a4230b5-fac9-4976-bc92-54828f39cadf",
   "metadata": {},
   "outputs": [],
   "source": [
    "# Read in Momentum factor data from CSV included in Resources folder of this repo.\n",
    "# Note: as per this notebook, using Momentum as a factor can be turned on and off with hashes in applicable cells.\n",
    "# This notebook is set up to use it or not use it, depending on user preference.\n",
    "# Across a number of time periods, we have not found it to be a significant factor with BTC.\n",
    "\n",
    "momentum_factor = pd.read_csv(\n",
    "    Path(\"./Resources/F-F_Momentum_Factor_daily.csv\"),\n",
    "    header=None\n",
    ")\n",
    "\n",
    "momentum_factor"
   ]
  },
  {
   "cell_type": "code",
   "execution_count": null,
   "id": "fbfa095e-a7a7-4ab9-bc57-18a9ceba66a2",
   "metadata": {},
   "outputs": [],
   "source": [
    "# Asssign column names\n",
    "\n",
    "momentum_factor.columns = [\"Date\", \"Mom\"]\n",
    "momentum_factor.columns"
   ]
  },
  {
   "cell_type": "code",
   "execution_count": null,
   "id": "a149041b-9be5-4ab9-8e7e-8e05a89d6ef8",
   "metadata": {},
   "outputs": [],
   "source": [
    "# Choose select dates \n",
    "\n",
    "momentum_factor = momentum_factor.loc[\n",
    "    (momentum_factor[\"Date\"] >= \"20220101\")\n",
    "   & (momentum_factor[\"Date\"] <= \"20220331\")\n",
    "]"
   ]
  },
  {
   "cell_type": "code",
   "execution_count": null,
   "id": "d7214a0c-b122-4fa4-84fc-9213702ed0e2",
   "metadata": {},
   "outputs": [],
   "source": [
    "display(momentum_factor.head())\n",
    "momentum_factor.tail()"
   ]
  },
  {
   "cell_type": "code",
   "execution_count": null,
   "id": "8941dce8-eaf0-469c-9e6d-2faabe2d4429",
   "metadata": {},
   "outputs": [],
   "source": [
    "# Set index\n",
    "\n",
    "momentum_factor.set_index(\"Date\")"
   ]
  },
  {
   "cell_type": "code",
   "execution_count": null,
   "id": "1aeae0a9-634a-4c49-b006-fd8f09e093b6",
   "metadata": {},
   "outputs": [],
   "source": [
    "# Drop NaNs\n",
    "\n",
    "momentum_factor = momentum_factor.dropna()\n",
    "momentum_factor.shape"
   ]
  },
  {
   "cell_type": "code",
   "execution_count": null,
   "id": "87387e77-b857-4c62-b6dc-29512d8e9bdb",
   "metadata": {},
   "outputs": [],
   "source": [
    "# Divide by 100 (because inputted Mom column is in percentages).\n",
    "\n",
    "momentum_factor[\"Mom\"] = momentum_factor[\"Mom\"]/100  \n",
    "momentum_factor.head()"
   ]
  },
  {
   "cell_type": "code",
   "execution_count": null,
   "id": "dc97f6d4-0138-47dc-b92e-e93d088b5e0e",
   "metadata": {},
   "outputs": [],
   "source": [
    "# Set index to the index of ff3_daily dataframe.\n",
    "\n",
    "momentum_factor.index = ff3_daily.index"
   ]
  },
  {
   "cell_type": "code",
   "execution_count": null,
   "id": "2146ed77-c55e-42d7-a5b3-1eae0e1afabd",
   "metadata": {},
   "outputs": [],
   "source": [
    "# Drop extra column\n",
    "\n",
    "momentum_factor.drop(columns=\"Date\", inplace=True)\n",
    "momentum_factor"
   ]
  },
  {
   "cell_type": "code",
   "execution_count": null,
   "id": "2b53d8c1-f07f-4f8d-b87d-cc7a120fd1a5",
   "metadata": {},
   "outputs": [],
   "source": [
    "# Merging FF3 daily facotr data with BTC daily return data into one dataframe\n",
    "\n",
    "regress_data = ff3_daily.merge(btc_dreturns, on=\"Date\")  \n",
    "display(regress_data.head())\n",
    "regress_data.tail()"
   ]
  },
  {
   "cell_type": "code",
   "execution_count": null,
   "id": "965e39dc-23d6-436c-873f-25406f883101",
   "metadata": {},
   "outputs": [],
   "source": [
    "# Merging combined FF3 daily factor and BTC daily returns data with Momentum daily factor data\n",
    "\n",
    "#regress_data = data.merge(momentum_factor, on=\"Date\")  \n",
    "#regress_data = regress_data[[\"Mkt-RF\", \"SMB\", \"HML\", \"Mom\", \"RF\", \"BTC-USD\"]] #ordering columns\n",
    "#display(regress_data.head())\n",
    "#regress_data.tail()"
   ]
  },
  {
   "cell_type": "code",
   "execution_count": null,
   "id": "6af472d3-f61d-491d-8e88-0606ca6cee40",
   "metadata": {},
   "outputs": [],
   "source": [
    "# Subtracting risk-free return rate from BTC's daily returns and creating a new column to store the result\n",
    "\n",
    "regress_data[\"BTC-RF\"] = regress_data[\"BTC-USD\"] - regress_data[\"RF\"]\n",
    "regress_data.head()"
   ]
  },
  {
   "cell_type": "code",
   "execution_count": null,
   "id": "877c67aa-35e6-4270-bc56-e5ae90e321e4",
   "metadata": {},
   "outputs": [],
   "source": [
    "# Checking relationships between two variables graphically using seaborn regplot. Scatter plot shows excess returns on the \n",
    "# market versus excess returns on BTC.\n",
    "\n",
    "sns.regplot(x=\"Mkt-RF\", y=\"BTC-RF\", data=regress_data) "
   ]
  },
  {
   "cell_type": "code",
   "execution_count": null,
   "id": "ccafc116-890d-4ce8-ae3a-f91b3834be1b",
   "metadata": {},
   "outputs": [],
   "source": [
    "X = regress_data[[\"Mkt-RF\", \"SMB\", \"HML\"]]  #the independent variables     \n",
    "# X = regress_data[[\"Mkt-RF\", \"SMB\", \"HML\", \"Mom\"]] #the independent variables four 4 factors\n",
    "y = regress_data[\"BTC-RF\"]  #the dependent variable\n",
    "\n",
    "X1 = sm.add_constant(X) #defining the constant\n",
    "model = sm.OLS(y, X1)\n",
    "\n",
    "results = model.fit()\n",
    "results.summary()"
   ]
  },
  {
   "cell_type": "code",
   "execution_count": null,
   "id": "66e0924c-1a0c-4b2f-a897-22971081727a",
   "metadata": {},
   "outputs": [],
   "source": [
    "#Note: The Prob (F-statistic) depicts probability of the null hypothesis being true, and can be thought of as the p-value for the \n",
    "#regression as a whole. Our F-statistic of effectively 0 implies that overall the regressions were significant.\n",
    "\n",
    "#Last thing are the coefficients and the p-values for the X variables. The coefficients tell you the size of the effect that \n",
    "#the variable is having on the dependent variable when all other independent variables are held constant. Here, only the Mk-RF\n",
    "#coefficient has a statistically significant p-value; the others are not statistically significant."
   ]
  },
  {
   "cell_type": "code",
   "execution_count": null,
   "id": "a0b39fe4-47b9-4bda-bbe2-5c32810be66c",
   "metadata": {},
   "outputs": [],
   "source": [
    "# Saving the coefficients, which tell us how much exposure BTC has to the market, size, value, and momentum. \n",
    "# Note on Fama French Factors: There is some systematic risk due to size, value (book equity to market equity), and momementum of \n",
    "# stocks. Stock risks are multidimensional! \n",
    "\n",
    "intercept, beta_m, beta_s, beta_v = results.params  \n",
    "#intercept, beta_m, beta_s, beta_v, beta_mom = results.params   #for 4 factors\n",
    "print(beta_m, beta_s, beta_v)\n",
    "# print(beta_m, beta_s, beta_v, beta_mom)   #for 4 factors"
   ]
  },
  {
   "cell_type": "code",
   "execution_count": null,
   "id": "1e5b1ca6-d93a-4525-96ff-bbf76c06f0c5",
   "metadata": {},
   "outputs": [],
   "source": [
    "# Getting average risk free rate\n",
    "\n",
    "risk_free = regress_data[\"RF\"].mean()\n",
    "risk_free"
   ]
  },
  {
   "cell_type": "code",
   "execution_count": null,
   "id": "1286bc58-8d69-4df4-94f6-3324ec458f76",
   "metadata": {},
   "outputs": [],
   "source": [
    "# Calculating expected excess return of the market (the market risk premium). Note, all is based on daily returns! So as calculated here, \n",
    "# the average daily return of the S&P500 (in excess of risk-free rate) during this period is .0818%.\n",
    "# Calculating expected excess return due to size (the size risk premium).\n",
    "# Calculating expected excess return due to value (the value risk premium).\n",
    "# Calculating expected excess return due to momentum (the momentum risk premium).\n",
    "\n",
    "market_premium = regress_data[\"Mkt-RF\"].mean()\n",
    "size_premium = regress_data[\"SMB\"].mean()\n",
    "value_premium = regress_data[\"HML\"].mean()\n",
    "#momentum_premium = regress_data[\"Mom\"].mean()  #use for 4 factors\n",
    "\n",
    "print(market_premium, size_premium, value_premium)  #monthly premiums, shows how market, size, value, momentum yield premiums\n",
    "#print(market_premium, size_premium, value_premium, momentum_premium) #use for 4 factors"
   ]
  },
  {
   "cell_type": "code",
   "execution_count": null,
   "id": "2549a65d-dae6-4918-9f1a-7a1ccb79f169",
   "metadata": {},
   "outputs": [],
   "source": [
    "#Compute expected return of BTC \n",
    "\n",
    "btc_exp_return = intercept + risk_free + (beta_m * market_premium) + (beta_s * size_premium) + (beta_v * value_premium) \n",
    "#btc_exp_return = risk_free + (beta_m * market_premium) + (beta_s * size_premium) + (beta_v * value_premium) + (beta_mom * momentum_premium) #use for 4 factors\n",
    "\n",
    "btc_exp_yr_return = btc_exp_return * 252\n",
    "\n",
    "print(f\"Using the Fama French Four Factor model, the expected daily return of Bitcoin is: %{btc_exp_return*100}.\")\n",
    "print(f\"Using the Fama French Four Factor model, the expected annual return of Bitcoin is: %{btc_exp_yr_return*100}.\")"
   ]
  },
  {
   "cell_type": "markdown",
   "id": "deb7ef64-7682-454f-b488-ef9dcdb196d6",
   "metadata": {},
   "source": [
    "# PART III: TRAINING AND TESTING THE DATA"
   ]
  },
  {
   "cell_type": "code",
   "execution_count": null,
   "id": "6a75144e-ccc3-44d2-aff4-b0782482f9da",
   "metadata": {},
   "outputs": [],
   "source": [
    "# Split data into training data (80%) and test data (20%)\n",
    "\n",
    "X_train, X_test, y_train, y_test = train_test_split(X, y, test_size=.2, random_state=0)"
   ]
  },
  {
   "cell_type": "code",
   "execution_count": null,
   "id": "6a790e62-8f61-4ad7-b079-c4e220319f38",
   "metadata": {},
   "outputs": [],
   "source": [
    "# Instantiate\n",
    "\n",
    "model = LinearRegression()"
   ]
  },
  {
   "cell_type": "code",
   "execution_count": null,
   "id": "51cd1528-b744-43dd-b462-e1a099fa871c",
   "metadata": {},
   "outputs": [],
   "source": [
    "# Fit\n",
    "\n",
    "model.fit(X_train, y_train)"
   ]
  },
  {
   "cell_type": "code",
   "execution_count": null,
   "id": "5076828e-d1d0-4423-868d-e10fe5c5e566",
   "metadata": {},
   "outputs": [],
   "source": [
    "# Predict\n",
    "\n",
    "y_pred = model.predict(X_test)"
   ]
  },
  {
   "cell_type": "code",
   "execution_count": null,
   "id": "ee27a97d-3d86-4456-affe-0dde27378e5c",
   "metadata": {
    "tags": []
   },
   "outputs": [],
   "source": [
    "# Model evaluation\n",
    "\n",
    "score = r2_score(y_test, y_pred)\n",
    "percent_score = round((score * 100), 2)\n",
    "\n",
    "print(f\"Your model will correctly predict the price of Bitcoin {percent_score}% of the time.\")\n",
    "print(f\"Or in other words, {percent_score}% of BTC's excess return on the market is explained by these factors.\")"
   ]
  },
  {
   "cell_type": "code",
   "execution_count": null,
   "id": "330168a0-d074-47f2-8ea3-d9ba420cf229",
   "metadata": {},
   "outputs": [],
   "source": []
  }
 ],
 "metadata": {
  "kernelspec": {
   "display_name": "Python 3 (ipykernel)",
   "language": "python",
   "name": "python3"
  },
  "language_info": {
   "codemirror_mode": {
    "name": "ipython",
    "version": 3
   },
   "file_extension": ".py",
   "mimetype": "text/x-python",
   "name": "python",
   "nbconvert_exporter": "python",
   "pygments_lexer": "ipython3",
   "version": "3.7.13"
  }
 },
 "nbformat": 4,
 "nbformat_minor": 5
}
